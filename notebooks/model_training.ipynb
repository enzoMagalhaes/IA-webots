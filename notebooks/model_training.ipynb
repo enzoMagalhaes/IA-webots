{
 "cells": [
  {
   "cell_type": "code",
   "execution_count": 7,
   "id": "b530a913",
   "metadata": {},
   "outputs": [
    {
     "data": {
      "text/html": [
       "<div>\n",
       "<style scoped>\n",
       "    .dataframe tbody tr th:only-of-type {\n",
       "        vertical-align: middle;\n",
       "    }\n",
       "\n",
       "    .dataframe tbody tr th {\n",
       "        vertical-align: top;\n",
       "    }\n",
       "\n",
       "    .dataframe thead th {\n",
       "        text-align: right;\n",
       "    }\n",
       "</style>\n",
       "<table border=\"1\" class=\"dataframe\">\n",
       "  <thead>\n",
       "    <tr style=\"text-align: right;\">\n",
       "      <th></th>\n",
       "      <th>img</th>\n",
       "      <th>lidar</th>\n",
       "      <th>dist</th>\n",
       "      <th>angle</th>\n",
       "      <th>yellow_distance</th>\n",
       "    </tr>\n",
       "  </thead>\n",
       "  <tbody>\n",
       "    <tr>\n",
       "      <th>0</th>\n",
       "      <td>[[[58, 72, 109], [58, 72, 109], [58, 72, 109],...</td>\n",
       "      <td>[0.6026701927185051, 0.610209167003631, 0.6181...</td>\n",
       "      <td>0.118589</td>\n",
       "      <td>0.000000</td>\n",
       "      <td>0.591787</td>\n",
       "    </tr>\n",
       "    <tr>\n",
       "      <th>1</th>\n",
       "      <td>[[[67, 80, 121], [67, 80, 121], [66, 80, 119],...</td>\n",
       "      <td>[0.386225640773773, 0.388485670089721, 0.39086...</td>\n",
       "      <td>0.075204</td>\n",
       "      <td>0.000000</td>\n",
       "      <td>0.604903</td>\n",
       "    </tr>\n",
       "    <tr>\n",
       "      <th>2</th>\n",
       "      <td>[[[73, 89, 131], [73, 89, 131], [72, 89, 129],...</td>\n",
       "      <td>[0.291639506816864, 0.291985154151916, 0.29238...</td>\n",
       "      <td>0.056245</td>\n",
       "      <td>0.000000</td>\n",
       "      <td>0.598141</td>\n",
       "    </tr>\n",
       "    <tr>\n",
       "      <th>3</th>\n",
       "      <td>[[[87, 102, 147], [86, 102, 144], [85, 101, 14...</td>\n",
       "      <td>[0.25371536612510603, 0.252918452024459, 0.252...</td>\n",
       "      <td>0.046990</td>\n",
       "      <td>0.165354</td>\n",
       "      <td>0.601514</td>\n",
       "    </tr>\n",
       "    <tr>\n",
       "      <th>4</th>\n",
       "      <td>[[[99, 114, 154], [99, 114, 156], [100, 115, 1...</td>\n",
       "      <td>[0.269550085067749, 0.26730242371559104, 0.265...</td>\n",
       "      <td>0.042236</td>\n",
       "      <td>0.385827</td>\n",
       "      <td>0.599741</td>\n",
       "    </tr>\n",
       "    <tr>\n",
       "      <th>...</th>\n",
       "      <td>...</td>\n",
       "      <td>...</td>\n",
       "      <td>...</td>\n",
       "      <td>...</td>\n",
       "      <td>...</td>\n",
       "    </tr>\n",
       "    <tr>\n",
       "      <th>2569</th>\n",
       "      <td>[[[57, 67, 98], [57, 67, 97], [57, 67, 97], [5...</td>\n",
       "      <td>[0.12894400954246502, 0.12786881625652302, 0.1...</td>\n",
       "      <td>0.019050</td>\n",
       "      <td>0.385827</td>\n",
       "      <td>0.607161</td>\n",
       "    </tr>\n",
       "    <tr>\n",
       "      <th>2570</th>\n",
       "      <td>[[[51, 60, 89], [51, 60, 88], [50, 59, 87], [5...</td>\n",
       "      <td>[0.18310509622097002, 0.18000471591949402, 0.1...</td>\n",
       "      <td>0.019024</td>\n",
       "      <td>0.614173</td>\n",
       "      <td>0.606480</td>\n",
       "    </tr>\n",
       "    <tr>\n",
       "      <th>2571</th>\n",
       "      <td>[[[48, 61, 99], [48, 61, 97], [48, 61, 97], [4...</td>\n",
       "      <td>[0.49001839756965604, 0.469083726406097, 0.449...</td>\n",
       "      <td>0.023789</td>\n",
       "      <td>0.834646</td>\n",
       "      <td>0.607161</td>\n",
       "    </tr>\n",
       "    <tr>\n",
       "      <th>2572</th>\n",
       "      <td>[[[49, 64, 99], [50, 63, 99], [50, 63, 99], [4...</td>\n",
       "      <td>[0.7098647356033321, 0.7091904878616331, 0.708...</td>\n",
       "      <td>0.032938</td>\n",
       "      <td>1.000000</td>\n",
       "      <td>0.607161</td>\n",
       "    </tr>\n",
       "    <tr>\n",
       "      <th>2573</th>\n",
       "      <td>[[[54, 67, 104], [54, 66, 103], [53, 66, 103],...</td>\n",
       "      <td>[0.740205824375152, 0.73610919713974, 0.732175...</td>\n",
       "      <td>0.049863</td>\n",
       "      <td>1.000000</td>\n",
       "      <td>0.599100</td>\n",
       "    </tr>\n",
       "  </tbody>\n",
       "</table>\n",
       "<p>2574 rows × 5 columns</p>\n",
       "</div>"
      ],
      "text/plain": [
       "                                                    img  \\\n",
       "0     [[[58, 72, 109], [58, 72, 109], [58, 72, 109],...   \n",
       "1     [[[67, 80, 121], [67, 80, 121], [66, 80, 119],...   \n",
       "2     [[[73, 89, 131], [73, 89, 131], [72, 89, 129],...   \n",
       "3     [[[87, 102, 147], [86, 102, 144], [85, 101, 14...   \n",
       "4     [[[99, 114, 154], [99, 114, 156], [100, 115, 1...   \n",
       "...                                                 ...   \n",
       "2569  [[[57, 67, 98], [57, 67, 97], [57, 67, 97], [5...   \n",
       "2570  [[[51, 60, 89], [51, 60, 88], [50, 59, 87], [5...   \n",
       "2571  [[[48, 61, 99], [48, 61, 97], [48, 61, 97], [4...   \n",
       "2572  [[[49, 64, 99], [50, 63, 99], [50, 63, 99], [4...   \n",
       "2573  [[[54, 67, 104], [54, 66, 103], [53, 66, 103],...   \n",
       "\n",
       "                                                  lidar      dist     angle  \\\n",
       "0     [0.6026701927185051, 0.610209167003631, 0.6181...  0.118589  0.000000   \n",
       "1     [0.386225640773773, 0.388485670089721, 0.39086...  0.075204  0.000000   \n",
       "2     [0.291639506816864, 0.291985154151916, 0.29238...  0.056245  0.000000   \n",
       "3     [0.25371536612510603, 0.252918452024459, 0.252...  0.046990  0.165354   \n",
       "4     [0.269550085067749, 0.26730242371559104, 0.265...  0.042236  0.385827   \n",
       "...                                                 ...       ...       ...   \n",
       "2569  [0.12894400954246502, 0.12786881625652302, 0.1...  0.019050  0.385827   \n",
       "2570  [0.18310509622097002, 0.18000471591949402, 0.1...  0.019024  0.614173   \n",
       "2571  [0.49001839756965604, 0.469083726406097, 0.449...  0.023789  0.834646   \n",
       "2572  [0.7098647356033321, 0.7091904878616331, 0.708...  0.032938  1.000000   \n",
       "2573  [0.740205824375152, 0.73610919713974, 0.732175...  0.049863  1.000000   \n",
       "\n",
       "      yellow_distance  \n",
       "0            0.591787  \n",
       "1            0.604903  \n",
       "2            0.598141  \n",
       "3            0.601514  \n",
       "4            0.599741  \n",
       "...               ...  \n",
       "2569         0.607161  \n",
       "2570         0.606480  \n",
       "2571         0.607161  \n",
       "2572         0.607161  \n",
       "2573         0.599100  \n",
       "\n",
       "[2574 rows x 5 columns]"
      ]
     },
     "execution_count": 7,
     "metadata": {},
     "output_type": "execute_result"
    }
   ],
   "source": [
    "import pandas as pd\n",
    "df=  pd.read_json(\"data/training_data.json\")\n",
    "\n",
    "scal_data = {}\n",
    "\n",
    "# normalize columns\n",
    "for column in ['dist','angle','yellow_distance']:\n",
    "    scal_data[column] = [min(df[column]),max(df[column])]\n",
    "    df[column] = (df[column] - df[column].min()) / (df[column].max() - df[column].min())\n",
    "\n",
    "\n",
    "\n",
    "df"
   ]
  },
  {
   "cell_type": "code",
   "execution_count": 9,
   "id": "aeaf918d",
   "metadata": {},
   "outputs": [
    {
     "name": "stdout",
     "output_type": "stream",
     "text": [
      "0.0779651616857603\n"
     ]
    },
    {
     "data": {
      "text/plain": [
       "0.4000000000000001"
      ]
     },
     "execution_count": 9,
     "metadata": {},
     "output_type": "execute_result"
    }
   ],
   "source": [
    "def normalize(val,column):\n",
    "    return (val - scal_data[column][0]) / (scal_data[column][1] - scal_data[column][0])\n",
    "\n",
    "def denormalize(val, column):\n",
    "    return val * (scal_data[column][1] - scal_data[column][0]) + scal_data[column][0]\n",
    "\n",
    "\n",
    "print(normalize(0.4, \"dist\"))\n",
    "denormalize(0.0779651616857603, \"dist\")\n",
    "\n",
    "\n"
   ]
  },
  {
   "cell_type": "code",
   "execution_count": 14,
   "id": "34b6a3ed",
   "metadata": {},
   "outputs": [
    {
     "name": "stdout",
     "output_type": "stream",
     "text": [
      "0.1822735148427958\n",
      "100.0\n"
     ]
    }
   ],
   "source": [
    "print(normalize(100, \"yellow_distance\"))\n",
    "print(denormalize(0.1822735148427958, \"yellow_distance\"))"
   ]
  },
  {
   "cell_type": "code",
   "execution_count": 19,
   "id": "75669b86",
   "metadata": {},
   "outputs": [],
   "source": [
    "from sklearn.model_selection import train_test_split\n",
    "\n",
    "\n",
    "# train test split \n",
    "imgs,lidars, distances, angles, yellow_distances = [],[],[],[], []\n",
    "\n",
    "for _,row in df.iterrows():\n",
    "\n",
    "    img,lidar = preprocessing(row['img'],row['lidar'])\n",
    "\n",
    "    imgs.append(img)\n",
    "    lidars.append(lidar)\n",
    "    distances.append(row['dist'])\n",
    "    angles.append(row['angle'])\n",
    "    yellow_distances.append(row['yellow_distance'])\n",
    "\n",
    "\n",
    "imgs = np.array(imgs, dtype=np.float32)\n",
    "lidars = np.array(lidars, dtype=np.float32)\n",
    "distances = np.array(distances, dtype=np.float32)\n",
    "angles = np.array(angles, dtype=np.float32)\n",
    "yellow_distances = np.array(yellow_distances, dtype=np.float32)\n",
    "\n",
    "img_train, img_val, lidar_train, lidar_val, dist_train, dist_val, angle_train, angle_val, yellow_dist_train, yellow_dist_val = train_test_split(\n",
    "    imgs, lidars, distances, angles, yellow_distances, test_size=0.2, random_state=42\n",
    ")\n"
   ]
  },
  {
   "cell_type": "code",
   "execution_count": null,
   "id": "ba7ea36e",
   "metadata": {},
   "outputs": [],
   "source": [
    "from tensorflow.keras.callbacks import ModelCheckpoint\n",
    "\n",
    "model = build_model()\n",
    "\n",
    "# Callback\n",
    "checkpoint = ModelCheckpoint(\"best_model.h5\", monitor=\"val_loss\", save_best_only=True)\n",
    "\n",
    "# Treinamento\n",
    "model.fit(\n",
    "    [img_train, lidar_train],\n",
    "    [dist_train, angle_train, yellow_dist_train],\n",
    "    validation_data=([img_val, lidar_val], [dist_val, angle_val, yellow_dist_val]),\n",
    "    epochs=20,\n",
    "    batch_size=32,\n",
    "    callbacks=[checkpoint]\n",
    ")"
   ]
  },
  {
   "cell_type": "code",
   "execution_count": 37,
   "id": "ad964ccc",
   "metadata": {},
   "outputs": [
    {
     "name": "stdout",
     "output_type": "stream",
     "text": [
      "actual: 0.054933447499299 0.9448818897637795 0.602245223516168\n",
      "\u001b[1m1/1\u001b[0m \u001b[32m━━━━━━━━━━━━━━━━━━━━\u001b[0m\u001b[37m\u001b[0m \u001b[1m0s\u001b[0m 23ms/step\n",
      "predicted: [[0.05001383]] [[0.93775195]] [[0.58166116]]\n"
     ]
    }
   ],
   "source": [
    "\n",
    "\n",
    "def predict(img,lidar,single=True):\n",
    "    img,lidar = preprocessing(img,lidar,single)\n",
    "    distance_pred, angle_pred = model.predict([img, lidar])\n",
    "\n",
    "def test():\n",
    "\n",
    "    img,lidar,dist,angle,yellow_distance = df.iloc[11]\n",
    "\n",
    "    img,lidar =  preprocessing(img,lidar, single=True)\n",
    "\n",
    "\n",
    "    print(f\"actual: {dist} {angle} {yellow_distance}\")\n",
    "\n",
    "    pdist,pangle,pyellow_distance = model.predict([img,lidar])\n",
    "    print(f\"predicted: {pdist} {pangle} {pyellow_distance}\")\n",
    "\n",
    "test()\n",
    "\n"
   ]
  },
  {
   "cell_type": "code",
   "execution_count": 5,
   "id": "6c39ee54",
   "metadata": {},
   "outputs": [
    {
     "name": "stdout",
     "output_type": "stream",
     "text": [
      "\u001b[1m1/1\u001b[0m \u001b[32m━━━━━━━━━━━━━━━━━━━━\u001b[0m\u001b[37m\u001b[0m \u001b[1m0s\u001b[0m 60ms/step\n",
      "actual: 0.056245129117985494 0.0 0.5981411379569618\n",
      "predicted: [[0.04191741]] [[0.00406026]] [[0.5744534]]\n"
     ]
    }
   ],
   "source": [
    "from controllers.find_ball.components.cnn.model import CNN\n",
    "\n",
    "img,lidar,dist,angle,yellow_distance = df.iloc[2]\n",
    "\n",
    "model = CNN()\n",
    "pdist,pangle,pyellow_distance = model.predict(img,lidar)\n",
    "\n",
    "print(f\"actual: {dist} {angle} {yellow_distance}\")\n",
    "print(f\"predicted: {pdist} {pangle} {pyellow_distance}\")\n",
    "\n"
   ]
  }
 ],
 "metadata": {
  "kernelspec": {
   "display_name": "env",
   "language": "python",
   "name": "python3"
  },
  "language_info": {
   "codemirror_mode": {
    "name": "ipython",
    "version": 3
   },
   "file_extension": ".py",
   "mimetype": "text/x-python",
   "name": "python",
   "nbconvert_exporter": "python",
   "pygments_lexer": "ipython3",
   "version": "3.12.3"
  }
 },
 "nbformat": 4,
 "nbformat_minor": 5
}
